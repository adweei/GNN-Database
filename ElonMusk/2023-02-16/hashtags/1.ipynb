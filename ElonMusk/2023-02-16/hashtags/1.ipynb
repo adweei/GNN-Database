{
 "cells": [
  {
   "cell_type": "code",
   "execution_count": 1,
   "metadata": {},
   "outputs": [],
   "source": [
    "import json\n",
    "import numpy as np\n",
    "import torch \n",
    "from os import listdir"
   ]
  },
  {
   "cell_type": "code",
   "execution_count": 2,
   "metadata": {},
   "outputs": [],
   "source": [
    "file_path = './timelines/'\n",
    "files = listdir(file_path)"
   ]
  },
  {
   "cell_type": "code",
   "execution_count": 3,
   "metadata": {},
   "outputs": [
    {
     "name": "stdout",
     "output_type": "stream",
     "text": [
      "390978069.jsonn5172.json\r"
     ]
    }
   ],
   "source": [
    "user_hashtags = dict()\n",
    "for f in files:\n",
    "    with open(file_path + f, 'r') as fp:\n",
    "        print(f, end='\\r')\n",
    "        user_hashtags.update( json.load(fp= fp) )"
   ]
  },
  {
   "cell_type": "code",
   "execution_count": 4,
   "metadata": {},
   "outputs": [
    {
     "data": {
      "text/plain": [
       "95617"
      ]
     },
     "execution_count": 4,
     "metadata": {},
     "output_type": "execute_result"
    }
   ],
   "source": [
    "hashtag = set()\n",
    "hashtags_count = dict()\n",
    "for user_id in user_hashtags.keys():\n",
    "    \n",
    "    hashtag_obj = user_hashtags[ user_id ]\n",
    "    for created in hashtag_obj.keys():\n",
    "        hashtags = hashtag_obj[created]['hashtags']\n",
    "        if hashtags:\n",
    "            for k in hashtags:\n",
    "                text = k['text'].lower()\n",
    "                if text in hashtags_count.keys():\n",
    "                    hashtags_count[text].add(user_id)\n",
    "                else:\n",
    "                    user_mentions = set()\n",
    "                    user_mentions.add(user_id)\n",
    "                    hashtags_count[text] = user_mentions\n",
    "\n",
    "                hashtag.add(text)\n",
    "len(hashtag)\n"
   ]
  },
  {
   "cell_type": "code",
   "execution_count": 5,
   "metadata": {},
   "outputs": [],
   "source": [
    "for k in hashtags_count.keys():\n",
    "    hashtags_count[k] = list(hashtags_count[k])"
   ]
  },
  {
   "cell_type": "code",
   "execution_count": 6,
   "metadata": {},
   "outputs": [],
   "source": [
    "with open('hashtag_user_mention.json', 'w') as fp:\n",
    "    json.dump(hashtags_count, fp= fp, indent= 2)"
   ]
  },
  {
   "cell_type": "code",
   "execution_count": 7,
   "metadata": {},
   "outputs": [],
   "source": [
    "for k in hashtags_count:\n",
    "    hashtags_count[k] = len(hashtags_count[k])"
   ]
  },
  {
   "cell_type": "code",
   "execution_count": 8,
   "metadata": {},
   "outputs": [],
   "source": [
    "sorted_hashtags_count = sorted(hashtags_count.items(), key=lambda x:x[1], reverse=True)\n",
    "hashtags_count = dict()\n",
    "for i in sorted_hashtags_count:\n",
    "    hashtags_count[i[0]] = i[1]"
   ]
  },
  {
   "cell_type": "code",
   "execution_count": 9,
   "metadata": {},
   "outputs": [],
   "source": [
    "with open('hashtag_count.json', 'w') as fp:\n",
    "    json.dump(hashtags_count, fp= fp, indent= 2)"
   ]
  },
  {
   "cell_type": "code",
   "execution_count": 10,
   "metadata": {},
   "outputs": [
    {
     "data": {
      "text/plain": [
       "297"
      ]
     },
     "execution_count": 10,
     "metadata": {},
     "output_type": "execute_result"
    }
   ],
   "source": [
    "s = 0\n",
    "for k in hashtags_count.keys():\n",
    "    if hashtags_count[k]>= 100:\n",
    "        s+= 1\n",
    "s"
   ]
  }
 ],
 "metadata": {
  "kernelspec": {
   "display_name": "dgl",
   "language": "python",
   "name": "python3"
  },
  "language_info": {
   "codemirror_mode": {
    "name": "ipython",
    "version": 3
   },
   "file_extension": ".py",
   "mimetype": "text/x-python",
   "name": "python",
   "nbconvert_exporter": "python",
   "pygments_lexer": "ipython3",
   "version": "3.7.15"
  },
  "orig_nbformat": 4,
  "vscode": {
   "interpreter": {
    "hash": "bd41fe153378347448e1c201e7672b8e1a74a52b34c8d7e7e6593400a70fc6a0"
   }
  }
 },
 "nbformat": 4,
 "nbformat_minor": 2
}
